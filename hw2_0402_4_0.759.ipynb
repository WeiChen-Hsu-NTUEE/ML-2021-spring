{
  "nbformat": 4,
  "nbformat_minor": 0,
  "metadata": {
    "colab": {
      "name": "0401_0_0.735.ipynb",
      "provenance": [],
      "collapsed_sections": [],
      "toc_visible": true,
      "machine_shape": "hm"
    },
    "kernelspec": {
      "name": "python3",
      "display_name": "Python 3"
    },
    "accelerator": "GPU"
  },
  "cells": [
    {
      "cell_type": "markdown",
      "metadata": {
        "id": "jmyt7DAsZPZp"
      },
      "source": [
        "# **Homework 2-1 Phoneme Classification**"
      ]
    },
    {
      "cell_type": "markdown",
      "metadata": {
        "id": "XxKCza7BZT8U"
      },
      "source": [
        "<font color = \"sky blue\">Model architecture\n",
        "\n",
        "1.   layer(7)\n",
        "2.   dim(4096->2048->1024->512->256->128->->39)\n",
        "3.   activation function (<font color = \"red\">ReLU</font>: 0.67812, RReLU:0.68872, ReLU6: 0.682, ELU)\n",
        "\n",
        "</font>\n",
        "\n",
        "<font color = \"white\">Training\n",
        "1. batch size (17)\n",
        "2. optimizer (Adam)\n",
        "3. learning rate (0.00007; learning schedule?)\n",
        "4. epoch (50)\n",
        "5. val_ratio = 0.1\n",
        "\n",
        "</font>\n",
        "\n",
        "<font color = \"sky blue\">Tips\n",
        "1. batch norm (1d)\n",
        "2. drop out (0.4, 0.3, 0.3, 0.2, 0.2, 0.1)\n",
        "3. regularization(weight_decay = 0.001)\n",
        "\n",
        "</font>\n",
        "\n",
        "<font color = \"lime\">status\n",
        "\n",
        "</font>"
      ]
    },
    {
      "cell_type": "markdown",
      "metadata": {
        "id": "v0fK7dhJZaSg"
      },
      "source": [
        "## The DARPA TIMIT Acoustic-Phonetic Continuous Speech Corpus (TIMIT)\n",
        "The TIMIT corpus of reading speech has been designed to provide speech data for the acquisition of acoustic-phonetic knowledge and for the development and evaluation of automatic speech recognition systems.\n",
        "\n",
        "This homework is a multiclass classification task, \n",
        "we are going to train a deep neural network classifier to predict the phonemes for each frame from the speech corpus TIMIT.\n",
        "\n",
        "link: https://academictorrents.com/details/34e2b78745138186976cbc27939b1b34d18bd5b3"
      ]
    },
    {
      "cell_type": "markdown",
      "metadata": {
        "id": "siqe8wFVZbb3"
      },
      "source": [
        "## Download Data\n",
        "Download data from google drive, then unzip it.\n",
        "\n",
        "You should have `timit_11/train_11.npy`, `timit_11/train_label_11.npy`, and `timit_11/test_11.npy` after running this block.<br><br>\n",
        "`timit_11/`\n",
        "- `train_11.npy`: training data<br>\n",
        "- `train_label_11.npy`: training label<br>\n",
        "- `test_11.npy`:  testing data<br><br>\n",
        "\n",
        "**notes: if the google drive link is dead, you can download the data directly from Kaggle and upload it to the workspace**\n",
        "\n",
        "\n"
      ]
    },
    {
      "cell_type": "code",
      "metadata": {
        "id": "FpWALhLmWyJO",
        "colab": {
          "base_uri": "https://localhost:8080/",
          "height": 35
        },
        "outputId": "7c1e0136-b363-47c3-b132-981208fda7cb"
      },
      "source": [
        "'''\n",
        "!gdown --id '1IUjpShq9Q8oSGpiUBd4HseZYsX5yC0sC' --output data.zip\n",
        "!unzip data.zip\n",
        "!ls\n",
        "'''"
      ],
      "execution_count": 1,
      "outputs": [
        {
          "output_type": "execute_result",
          "data": {
            "application/vnd.google.colaboratory.intrinsic+json": {
              "type": "string"
            },
            "text/plain": [
              "\"\\n!gdown --id '1IUjpShq9Q8oSGpiUBd4HseZYsX5yC0sC' --output data.zip\\n!unzip data.zip\\n!ls\\n\""
            ]
          },
          "metadata": {
            "tags": []
          },
          "execution_count": 1
        }
      ]
    },
    {
      "cell_type": "code",
      "metadata": {
        "id": "rCXxG3XrW1Fh",
        "colab": {
          "base_uri": "https://localhost:8080/"
        },
        "outputId": "f9d6aa4a-4439-4f86-8cbe-a794d3dd7741"
      },
      "source": [
        "from google.colab import drive\n",
        "drive.mount('/content/drive')"
      ],
      "execution_count": 2,
      "outputs": [
        {
          "output_type": "stream",
          "text": [
            "Drive already mounted at /content/drive; to attempt to forcibly remount, call drive.mount(\"/content/drive\", force_remount=True).\n"
          ],
          "name": "stdout"
        }
      ]
    },
    {
      "cell_type": "markdown",
      "metadata": {
        "id": "SVv9WrgUZjLP"
      },
      "source": [
        "## Preparing Data\n",
        "Load the training and testing data from the `.npy` file (NumPy array)."
      ]
    },
    {
      "cell_type": "code",
      "metadata": {
        "id": "nPQrtX8ZW3nf",
        "colab": {
          "base_uri": "https://localhost:8080/"
        },
        "outputId": "b44096d1-3de9-4b55-a8d0-cb1592b2b13e"
      },
      "source": [
        "import numpy as np\n",
        "\n",
        "print('Loading data ...')\n",
        "\n",
        "data_root='./drive/MyDrive/ML2021/timit_11/'\n",
        "train = np.load(data_root + 'train_11.npy')\n",
        "train_label = np.load(data_root + 'train_label_11.npy')\n",
        "test = np.load(data_root + 'test_11.npy')\n",
        "\n",
        "print('Size of training data: {}'.format(train.shape))\n",
        "print('Size of testing data: {}'.format(test.shape))"
      ],
      "execution_count": 3,
      "outputs": [
        {
          "output_type": "stream",
          "text": [
            "Loading data ...\n",
            "Size of training data: (1229932, 429)\n",
            "Size of testing data: (451552, 429)\n"
          ],
          "name": "stdout"
        }
      ]
    },
    {
      "cell_type": "markdown",
      "metadata": {
        "id": "I8euv3FVZm45"
      },
      "source": [
        "## Create Dataset"
      ]
    },
    {
      "cell_type": "code",
      "metadata": {
        "id": "BzVul8p_W7hG"
      },
      "source": [
        "import torch\n",
        "from torch.utils.data import Dataset\n",
        "\n",
        "class TIMITDataset(Dataset):\n",
        "    def __init__(self, X, y=None):\n",
        "        self.data = torch.from_numpy(X).float()\n",
        "        if y is not None:\n",
        "            y = y.astype(np.int)\n",
        "            self.label = torch.LongTensor(y)\n",
        "        else:\n",
        "            self.label = None\n",
        "\n",
        "    def __getitem__(self, idx):\n",
        "        if self.label is not None:\n",
        "            return self.data[idx], self.label[idx]\n",
        "        else:\n",
        "            return self.data[idx]\n",
        "\n",
        "    def __len__(self):\n",
        "        return len(self.data)\n"
      ],
      "execution_count": 4,
      "outputs": []
    },
    {
      "cell_type": "markdown",
      "metadata": {
        "id": "JzbRmoKIZqJ7"
      },
      "source": [
        "Split the labeled data into a training set and a validation set, you can modify the variable `VAL_RATIO` to change the ratio of validation data."
      ]
    },
    {
      "cell_type": "code",
      "metadata": {
        "id": "xx7-2SSVW8kI",
        "colab": {
          "base_uri": "https://localhost:8080/"
        },
        "outputId": "3b05beb7-a18b-467a-aca4-75a8a20c4f65"
      },
      "source": [
        "VAL_RATIO = 0.1 #TODO\n",
        "\n",
        "percent = int(train.shape[0] * (1 - VAL_RATIO))\n",
        "train_x, train_y, val_x, val_y = train[:percent], train_label[:percent], train[percent:], train_label[percent:]\n",
        "print('Size of training set: {}'.format(train_x.shape))\n",
        "print('Size of validation set: {}'.format(val_x.shape))"
      ],
      "execution_count": 5,
      "outputs": [
        {
          "output_type": "stream",
          "text": [
            "Size of training set: (1106938, 429)\n",
            "Size of validation set: (122994, 429)\n"
          ],
          "name": "stdout"
        }
      ]
    },
    {
      "cell_type": "markdown",
      "metadata": {
        "id": "jJgX4xLoZuWy"
      },
      "source": [
        "Create a data loader from the dataset, feel free to tweak the variable `BATCH_SIZE` here."
      ]
    },
    {
      "cell_type": "code",
      "metadata": {
        "id": "LyvzRvztW-9o"
      },
      "source": [
        "BATCH_SIZE = 17 #TODO\n",
        "\n",
        "from torch.utils.data import DataLoader\n",
        "\n",
        "train_set = TIMITDataset(train_x, train_y)\n",
        "val_set = TIMITDataset(val_x, val_y)\n",
        "train_loader = DataLoader(train_set, batch_size=BATCH_SIZE, shuffle=True) #only shuffle the training data\n",
        "val_loader = DataLoader(val_set, batch_size=BATCH_SIZE, shuffle=False)"
      ],
      "execution_count": 6,
      "outputs": []
    },
    {
      "cell_type": "markdown",
      "metadata": {
        "id": "VMbEcJaEZw_w"
      },
      "source": [
        "Cleanup the unneeded variables to save memory.<br>\n",
        "\n",
        "**notes: if you need to use these variables later, then you may remove this block or clean up unneeded variables later<br>the data size is quite huge, so be aware of memory usage in colab**"
      ]
    },
    {
      "cell_type": "code",
      "metadata": {
        "id": "xDlCDMXBW_hp",
        "colab": {
          "base_uri": "https://localhost:8080/"
        },
        "outputId": "409aefae-4583-4ae2-ce5f-f49633806230"
      },
      "source": [
        "import gc\n",
        "\n",
        "del train, train_label, train_x, train_y, val_x, val_y\n",
        "gc.collect()"
      ],
      "execution_count": 7,
      "outputs": [
        {
          "output_type": "execute_result",
          "data": {
            "text/plain": [
              "100"
            ]
          },
          "metadata": {
            "tags": []
          },
          "execution_count": 7
        }
      ]
    },
    {
      "cell_type": "markdown",
      "metadata": {
        "id": "YSCucgyNZ3Li"
      },
      "source": [
        "## Create Model"
      ]
    },
    {
      "cell_type": "markdown",
      "metadata": {
        "id": "PRr8zzQjZ5eX"
      },
      "source": [
        "Define model architecture, you are encouraged to change and experiment with the model architecture."
      ]
    },
    {
      "cell_type": "code",
      "metadata": {
        "id": "Gyynn6s1XBTj"
      },
      "source": [
        "import torch\n",
        "import torch.nn as nn\n",
        "\n",
        "class Classifier(nn.Module):\n",
        "    def __init__(self): #TODO\n",
        "        super(Classifier, self).__init__()\n",
        "        self.layer1 = nn.Linear(429, 4096)\n",
        "        self.layer2 = nn.Linear(4096, 2048)\n",
        "        self.layer3 = nn.Linear(2048, 1024)\n",
        "        self.layer4 = nn.Linear(1024, 512)\n",
        "        self.layer5 = nn.Linear(512, 256)\n",
        "        self.layer6 = nn.Linear(256, 128)\n",
        "        #self.layer7 = nn.Linear(128, 64)\n",
        "        self.out = nn.Linear(128, 39)\n",
        "\n",
        "        self.dropout1 = nn.Dropout(0.4)\n",
        "        self.dropout2 = nn.Dropout(0.3)\n",
        "        self.dropout3 = nn.Dropout(0.3)\n",
        "        self.dropout4 = nn.Dropout(0.2)\n",
        "        self.dropout5 = nn.Dropout(0.2)\n",
        "        self.dropout6 = nn.Dropout(0.1)\n",
        "        #self.dropout7 = nn.Dropout(0.2)\n",
        "\n",
        "        self.batchnorm1 = nn.BatchNorm1d(4096)\n",
        "        self.batchnorm2 = nn.BatchNorm1d(2048)\n",
        "        self.batchnorm3 = nn.BatchNorm1d(1024)\n",
        "        self.batchnorm4 = nn.BatchNorm1d(512)\n",
        "        self.batchnorm5 = nn.BatchNorm1d(256)\n",
        "        self.batchnorm6 = nn.BatchNorm1d(128)\n",
        "        #self.batchnorm7 = nn.BatchNorm1d(64)\n",
        "\n",
        "        self.act_fn = nn.ReLU()\n",
        "\n",
        "    def forward(self, x):\n",
        "        x = self.layer1(x)\n",
        "        x = self.act_fn(x)\n",
        "        x = self.batchnorm1(x)\n",
        "        x = self.dropout1(x)\n",
        "\n",
        "        x = self.layer2(x)\n",
        "        x = self.act_fn(x)\n",
        "        x = self.batchnorm2(x)\n",
        "        x = self.dropout2(x)\n",
        "\n",
        "        x = self.layer3(x)\n",
        "        x = self.act_fn(x)\n",
        "        x = self.batchnorm3(x)\n",
        "        x = self.dropout3(x)\n",
        "\n",
        "        x = self.layer4(x)\n",
        "        x = self.act_fn(x)\n",
        "        x = self.batchnorm4(x)\n",
        "        x = self.dropout4(x)\n",
        "\n",
        "        x = self.layer5(x)\n",
        "        x = self.act_fn(x)\n",
        "        x = self.batchnorm5(x)\n",
        "        x = self.dropout5(x)\n",
        "\n",
        "        x = self.layer6(x)\n",
        "        x = self.act_fn(x)\n",
        "        x = self.batchnorm6(x)\n",
        "        x = self.dropout6(x)\n",
        "\n",
        "        x = self.out(x)\n",
        "        \n",
        "        return x"
      ],
      "execution_count": 13,
      "outputs": []
    },
    {
      "cell_type": "markdown",
      "metadata": {
        "id": "zPvwMp7tZ8kn"
      },
      "source": [
        "## Training"
      ]
    },
    {
      "cell_type": "code",
      "metadata": {
        "id": "diZUhdhBXBf9"
      },
      "source": [
        "#check device\n",
        "def get_device():\n",
        "  return 'cuda' if torch.cuda.is_available() else 'cpu'"
      ],
      "execution_count": 14,
      "outputs": []
    },
    {
      "cell_type": "markdown",
      "metadata": {
        "id": "-CHe-xhhZ_Q3"
      },
      "source": [
        "Fix random seeds for reproducibility."
      ]
    },
    {
      "cell_type": "code",
      "metadata": {
        "id": "9gapf4MsXBrP"
      },
      "source": [
        "# fix random seed\n",
        "def same_seeds(seed):\n",
        "    torch.manual_seed(seed)\n",
        "    if torch.cuda.is_available():\n",
        "        torch.cuda.manual_seed(seed)\n",
        "        torch.cuda.manual_seed_all(seed)  \n",
        "    np.random.seed(seed)  \n",
        "    torch.backends.cudnn.benchmark = False\n",
        "    torch.backends.cudnn.deterministic = True"
      ],
      "execution_count": 15,
      "outputs": []
    },
    {
      "cell_type": "markdown",
      "metadata": {
        "id": "0Apc3Hy3aCqC"
      },
      "source": [
        "Feel free to change the training parameters here."
      ]
    },
    {
      "cell_type": "code",
      "metadata": {
        "id": "gohpAtd4XGVO",
        "colab": {
          "base_uri": "https://localhost:8080/"
        },
        "outputId": "193a8cc1-d045-469d-99e5-0a56282e2619"
      },
      "source": [
        "# fix random seed for reproducibility\n",
        "same_seeds(0)\n",
        "\n",
        "# get device \n",
        "device = get_device()\n",
        "print(f'DEVICE: {device}')\n",
        "\n",
        "# training parameters \n",
        "num_epoch = 60              # number of training epoch #TODO\n",
        "learning_rate = 0.00007       # learning rate #TODO\n",
        "\n",
        "# the path where checkpoint saved\n",
        "model_path = './model.ckpt'\n",
        "\n",
        "# create model, define a loss function, and optimizer\n",
        "model = Classifier().to(device)\n",
        "criterion = nn.CrossEntropyLoss() \n",
        "optimizer = torch.optim.Adam(model.parameters(), lr=learning_rate)  #TODO"
      ],
      "execution_count": 16,
      "outputs": [
        {
          "output_type": "stream",
          "text": [
            "DEVICE: cuda\n"
          ],
          "name": "stdout"
        }
      ]
    },
    {
      "cell_type": "code",
      "metadata": {
        "id": "OsmprPv_XH4-",
        "colab": {
          "base_uri": "https://localhost:8080/"
        },
        "outputId": "19d972cc-811f-4eeb-e0ab-ae27849fab41"
      },
      "source": [
        "# start training\n",
        "\n",
        "best_acc = 0.0\n",
        "for epoch in range(num_epoch):\n",
        "    train_acc = 0.0\n",
        "    train_loss = 0.0\n",
        "    val_acc = 0.0\n",
        "    val_loss = 0.0\n",
        "\n",
        "    # training\n",
        "    model.train() # set the model to training mode\n",
        "    for i, data in enumerate(train_loader):\n",
        "        inputs, labels = data\n",
        "        inputs, labels = inputs.to(device), labels.to(device)\n",
        "        optimizer.zero_grad() \n",
        "        outputs = model(inputs) \n",
        "        batch_loss = criterion(outputs, labels)\n",
        "        _, train_pred = torch.max(outputs, 1) # get the index of the class with the highest probability\n",
        "        batch_loss.backward() \n",
        "        optimizer.step() \n",
        "\n",
        "        train_acc += (train_pred.cpu() == labels.cpu()).sum().item()\n",
        "        train_loss += batch_loss.item()\n",
        "\n",
        "    # validation\n",
        "    if len(val_set) > 0:\n",
        "        model.eval() # set the model to evaluation mode\n",
        "        with torch.no_grad():\n",
        "            for i, data in enumerate(val_loader):\n",
        "                inputs, labels = data\n",
        "                inputs, labels = inputs.to(device), labels.to(device)\n",
        "                outputs = model(inputs)\n",
        "                batch_loss = criterion(outputs, labels) \n",
        "                _, val_pred = torch.max(outputs, 1) \n",
        "            \n",
        "                val_acc += (val_pred.cpu() == labels.cpu()).sum().item() # get the index of the class with the highest probability\n",
        "                val_loss += batch_loss.item()\n",
        "\n",
        "            print('[{:03d}/{:03d}] Train Acc: {:3.6f} Loss: {:3.6f} | Val Acc: {:3.6f} loss: {:3.6f}'.format(\n",
        "                epoch + 1, num_epoch, train_acc/len(train_set), train_loss/len(train_loader), val_acc/len(val_set), val_loss/len(val_loader)\n",
        "            ))\n",
        "\n",
        "            # if the model improves, save a checkpoint at this epoch\n",
        "            if val_acc > best_acc:\n",
        "                best_acc = val_acc\n",
        "                torch.save(model.state_dict(), model_path)\n",
        "                print('saving model with acc {:.3f}'.format(best_acc/len(val_set)))\n",
        "    else:\n",
        "        print('[{:03d}/{:03d}] Train Acc: {:3.6f} Loss: {:3.6f}'.format(\n",
        "            epoch + 1, num_epoch, train_acc/len(train_set), train_loss/len(train_loader)\n",
        "        ))\n",
        "\n",
        "# if not validating, save the last epoch   !!!!!\n",
        "if len(val_set) == 0:\n",
        "    torch.save(model.state_dict(), model_path)\n",
        "    print('saving model at last epoch')\n"
      ],
      "execution_count": 17,
      "outputs": [
        {
          "output_type": "stream",
          "text": [
            "[001/060] Train Acc: 0.555980 Loss: 1.484888 | Val Acc: 0.681375 loss: 1.028471\n",
            "saving model with acc 0.681\n",
            "[002/060] Train Acc: 0.626198 Loss: 1.210318 | Val Acc: 0.701278 loss: 0.943090\n",
            "saving model with acc 0.701\n",
            "[003/060] Train Acc: 0.649261 Loss: 1.124153 | Val Acc: 0.712279 loss: 0.899453\n",
            "saving model with acc 0.712\n",
            "[004/060] Train Acc: 0.663978 Loss: 1.070934 | Val Acc: 0.721629 loss: 0.861974\n",
            "saving model with acc 0.722\n",
            "[005/060] Train Acc: 0.674360 Loss: 1.030606 | Val Acc: 0.725450 loss: 0.847756\n",
            "saving model with acc 0.725\n",
            "[006/060] Train Acc: 0.682910 Loss: 1.000674 | Val Acc: 0.730515 loss: 0.827797\n",
            "saving model with acc 0.731\n",
            "[007/060] Train Acc: 0.689685 Loss: 0.976258 | Val Acc: 0.732686 loss: 0.818313\n",
            "saving model with acc 0.733\n",
            "[008/060] Train Acc: 0.694884 Loss: 0.957011 | Val Acc: 0.731702 loss: 0.814115\n",
            "[009/060] Train Acc: 0.700012 Loss: 0.938365 | Val Acc: 0.737882 loss: 0.799983\n",
            "saving model with acc 0.738\n",
            "[010/060] Train Acc: 0.704926 Loss: 0.921932 | Val Acc: 0.740817 loss: 0.786701\n",
            "saving model with acc 0.741\n",
            "[011/060] Train Acc: 0.708565 Loss: 0.907939 | Val Acc: 0.743646 loss: 0.788300\n",
            "saving model with acc 0.744\n",
            "[012/060] Train Acc: 0.711657 Loss: 0.895713 | Val Acc: 0.744288 loss: 0.778039\n",
            "saving model with acc 0.744\n",
            "[013/060] Train Acc: 0.715351 Loss: 0.884251 | Val Acc: 0.745955 loss: 0.772520\n",
            "saving model with acc 0.746\n",
            "[014/060] Train Acc: 0.717989 Loss: 0.873453 | Val Acc: 0.746898 loss: 0.769941\n",
            "saving model with acc 0.747\n",
            "[015/060] Train Acc: 0.720841 Loss: 0.863479 | Val Acc: 0.744199 loss: 0.774962\n",
            "[016/060] Train Acc: 0.723638 Loss: 0.854626 | Val Acc: 0.747329 loss: 0.769019\n",
            "saving model with acc 0.747\n",
            "[017/060] Train Acc: 0.725050 Loss: 0.847340 | Val Acc: 0.749484 loss: 0.762797\n",
            "saving model with acc 0.749\n",
            "[018/060] Train Acc: 0.727847 Loss: 0.838472 | Val Acc: 0.751224 loss: 0.755131\n",
            "saving model with acc 0.751\n",
            "[019/060] Train Acc: 0.730464 Loss: 0.829237 | Val Acc: 0.749313 loss: 0.755274\n",
            "[020/060] Train Acc: 0.732693 Loss: 0.821653 | Val Acc: 0.751435 loss: 0.751079\n",
            "saving model with acc 0.751\n",
            "[021/060] Train Acc: 0.734201 Loss: 0.816846 | Val Acc: 0.750175 loss: 0.757341\n",
            "[022/060] Train Acc: 0.735772 Loss: 0.809667 | Val Acc: 0.751061 loss: 0.751072\n",
            "[023/060] Train Acc: 0.737932 Loss: 0.803363 | Val Acc: 0.751549 loss: 0.747976\n",
            "saving model with acc 0.752\n",
            "[024/060] Train Acc: 0.739638 Loss: 0.797264 | Val Acc: 0.753533 loss: 0.746566\n",
            "saving model with acc 0.754\n",
            "[025/060] Train Acc: 0.741394 Loss: 0.792709 | Val Acc: 0.752126 loss: 0.750524\n",
            "[026/060] Train Acc: 0.742296 Loss: 0.788088 | Val Acc: 0.756037 loss: 0.739672\n",
            "saving model with acc 0.756\n",
            "[027/060] Train Acc: 0.743922 Loss: 0.781271 | Val Acc: 0.753655 loss: 0.743225\n",
            "[028/060] Train Acc: 0.745539 Loss: 0.777348 | Val Acc: 0.755232 loss: 0.737175\n",
            "[029/060] Train Acc: 0.746443 Loss: 0.773146 | Val Acc: 0.754980 loss: 0.740111\n",
            "[030/060] Train Acc: 0.747587 Loss: 0.769468 | Val Acc: 0.754890 loss: 0.741168\n",
            "[031/060] Train Acc: 0.749617 Loss: 0.763904 | Val Acc: 0.754687 loss: 0.737096\n",
            "[032/060] Train Acc: 0.750776 Loss: 0.760098 | Val Acc: 0.755931 loss: 0.734727\n",
            "[033/060] Train Acc: 0.751548 Loss: 0.756926 | Val Acc: 0.755874 loss: 0.736071\n",
            "[034/060] Train Acc: 0.751556 Loss: 0.754464 | Val Acc: 0.754191 loss: 0.742641\n",
            "[035/060] Train Acc: 0.753617 Loss: 0.749136 | Val Acc: 0.754712 loss: 0.738871\n",
            "[036/060] Train Acc: 0.754087 Loss: 0.746302 | Val Acc: 0.754565 loss: 0.738123\n",
            "[037/060] Train Acc: 0.755356 Loss: 0.743863 | Val Acc: 0.756012 loss: 0.737922\n",
            "[038/060] Train Acc: 0.756013 Loss: 0.739950 | Val Acc: 0.755606 loss: 0.736205\n",
            "[039/060] Train Acc: 0.757383 Loss: 0.736559 | Val Acc: 0.756086 loss: 0.737981\n",
            "saving model with acc 0.756\n",
            "[040/060] Train Acc: 0.757466 Loss: 0.733885 | Val Acc: 0.755850 loss: 0.736062\n",
            "[041/060] Train Acc: 0.757764 Loss: 0.732358 | Val Acc: 0.756061 loss: 0.734948\n",
            "[042/060] Train Acc: 0.759587 Loss: 0.728128 | Val Acc: 0.755996 loss: 0.733314\n",
            "[043/060] Train Acc: 0.760595 Loss: 0.725973 | Val Acc: 0.754167 loss: 0.739510\n",
            "[044/060] Train Acc: 0.760853 Loss: 0.722829 | Val Acc: 0.757704 loss: 0.731030\n",
            "saving model with acc 0.758\n",
            "[045/060] Train Acc: 0.761547 Loss: 0.721020 | Val Acc: 0.757354 loss: 0.734455\n",
            "[046/060] Train Acc: 0.761913 Loss: 0.718494 | Val Acc: 0.755638 loss: 0.736723\n",
            "[047/060] Train Acc: 0.763486 Loss: 0.716005 | Val Acc: 0.757834 loss: 0.728381\n",
            "saving model with acc 0.758\n",
            "[048/060] Train Acc: 0.763781 Loss: 0.713076 | Val Acc: 0.754801 loss: 0.735207\n",
            "[049/060] Train Acc: 0.764400 Loss: 0.711129 | Val Acc: 0.757728 loss: 0.728576\n",
            "[050/060] Train Acc: 0.765825 Loss: 0.707129 | Val Acc: 0.757460 loss: 0.731087\n",
            "[051/060] Train Acc: 0.766198 Loss: 0.706449 | Val Acc: 0.757191 loss: 0.728469\n",
            "[052/060] Train Acc: 0.767143 Loss: 0.701809 | Val Acc: 0.755346 loss: 0.733988\n",
            "[053/060] Train Acc: 0.767158 Loss: 0.700951 | Val Acc: 0.757305 loss: 0.732969\n",
            "[054/060] Train Acc: 0.768474 Loss: 0.697112 | Val Acc: 0.756777 loss: 0.730791\n",
            "[055/060] Train Acc: 0.768765 Loss: 0.696167 | Val Acc: 0.758606 loss: 0.730070\n",
            "saving model with acc 0.759\n",
            "[056/060] Train Acc: 0.770015 Loss: 0.694320 | Val Acc: 0.756712 loss: 0.736232\n",
            "[057/060] Train Acc: 0.770227 Loss: 0.692358 | Val Acc: 0.757565 loss: 0.729060\n",
            "[058/060] Train Acc: 0.770707 Loss: 0.689995 | Val Acc: 0.758915 loss: 0.728818\n",
            "saving model with acc 0.759\n",
            "[059/060] Train Acc: 0.771435 Loss: 0.688237 | Val Acc: 0.756915 loss: 0.733373\n",
            "[060/060] Train Acc: 0.771209 Loss: 0.686831 | Val Acc: 0.758720 loss: 0.728083\n"
          ],
          "name": "stdout"
        }
      ]
    },
    {
      "cell_type": "markdown",
      "metadata": {
        "id": "K5_qKSsjaJ9S"
      },
      "source": [
        "## Testing"
      ]
    },
    {
      "cell_type": "markdown",
      "metadata": {
        "id": "o9r48TSDaL4s"
      },
      "source": [
        "Create a testing dataset, and load model from the saved checkpoint."
      ]
    },
    {
      "cell_type": "code",
      "metadata": {
        "id": "nALBjHFyXJEw",
        "colab": {
          "base_uri": "https://localhost:8080/"
        },
        "outputId": "0cc5624b-0ebc-44c9-a038-592f1edcf821"
      },
      "source": [
        "# create testing dataset\n",
        "test_set = TIMITDataset(test, None)\n",
        "test_loader = DataLoader(test_set, batch_size=BATCH_SIZE, shuffle=False)\n",
        "\n",
        "# create model and load weights from checkpoint\n",
        "model = Classifier().to(device)\n",
        "model.load_state_dict(torch.load(model_path))"
      ],
      "execution_count": 18,
      "outputs": [
        {
          "output_type": "execute_result",
          "data": {
            "text/plain": [
              "<All keys matched successfully>"
            ]
          },
          "metadata": {
            "tags": []
          },
          "execution_count": 18
        }
      ]
    },
    {
      "cell_type": "markdown",
      "metadata": {
        "id": "BjxbXYkEaOrw"
      },
      "source": [
        "Make prediction."
      ]
    },
    {
      "cell_type": "code",
      "metadata": {
        "id": "acgAaXXaXJOd"
      },
      "source": [
        "predict = []\n",
        "model.eval() # set the model to evaluation mode\n",
        "with torch.no_grad():\n",
        "    for i, data in enumerate(test_loader):\n",
        "        inputs = data\n",
        "        inputs = inputs.to(device)\n",
        "        outputs = model(inputs)\n",
        "        _, test_pred = torch.max(outputs, 1) # get the index of the class with the highest probability\n",
        "\n",
        "        for y in test_pred.cpu().numpy():\n",
        "            predict.append(y)"
      ],
      "execution_count": 19,
      "outputs": []
    },
    {
      "cell_type": "markdown",
      "metadata": {
        "id": "Dc2XCdHqaQy5"
      },
      "source": [
        "Write prediction to a CSV file.\n",
        "\n",
        "After finish running this block, download the file `prediction.csv` from the files section on the left-hand side and submit it to Kaggle."
      ]
    },
    {
      "cell_type": "code",
      "metadata": {
        "id": "wnhhbuYWXNLj"
      },
      "source": [
        "with open('prediction.csv', 'w') as f:\n",
        "    f.write('Id,Class\\n')\n",
        "    for i, y in enumerate(predict):\n",
        "        f.write('{},{}\\n'.format(i, y))"
      ],
      "execution_count": 20,
      "outputs": []
    }
  ]
}
